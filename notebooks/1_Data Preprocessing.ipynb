{
 "cells": [
  {
   "cell_type": "code",
   "execution_count": 1,
   "id": "54c75fbd-a26b-4a88-9206-10eebaa45ca5",
   "metadata": {},
   "outputs": [
    {
     "ename": "ModuleNotFoundError",
     "evalue": "No module named 'fastf1'",
     "output_type": "error",
     "traceback": [
      "\u001b[31m---------------------------------------------------------------------------\u001b[39m",
      "\u001b[31mModuleNotFoundError\u001b[39m                       Traceback (most recent call last)",
      "\u001b[36mCell\u001b[39m\u001b[36m \u001b[39m\u001b[32mIn[1]\u001b[39m\u001b[32m, line 2\u001b[39m\n\u001b[32m      1\u001b[39m \u001b[38;5;66;03m#import\u001b[39;00m\n\u001b[32m----> \u001b[39m\u001b[32m2\u001b[39m \u001b[38;5;28;01mimport\u001b[39;00m\u001b[38;5;250m \u001b[39m\u001b[34;01mfastf1\u001b[39;00m\n\u001b[32m      3\u001b[39m \u001b[38;5;28;01mimport\u001b[39;00m\u001b[38;5;250m \u001b[39m\u001b[34;01mos\u001b[39;00m\n\u001b[32m      4\u001b[39m \u001b[38;5;28;01mimport\u001b[39;00m\u001b[38;5;250m \u001b[39m\u001b[34;01mpandas\u001b[39;00m\u001b[38;5;250m \u001b[39m\u001b[38;5;28;01mas\u001b[39;00m\u001b[38;5;250m \u001b[39m\u001b[34;01mpd\u001b[39;00m\n",
      "\u001b[31mModuleNotFoundError\u001b[39m: No module named 'fastf1'"
     ]
    }
   ],
   "source": [
    "#import\n",
    "import fastf1\n",
    "import os\n",
    "import pandas as pd"
   ]
  },
  {
   "cell_type": "code",
   "execution_count": null,
   "id": "5581b0a9-af80-405d-a80b-adbfd3d539e4",
   "metadata": {},
   "outputs": [],
   "source": [
    "#store data\n",
    "fastf1.Cache.enable_cache(r\"\\cache\")\n",
    "#pick 2021-2024 data\n",
    "years = [2021, 2022, 2023, 2024]\n",
    "laps_data = {}\n",
    "cleaned_laps_data = {}\n",
    "preprocessed_laps = []"
   ]
  },
  {
   "cell_type": "code",
   "execution_count": null,
   "id": "3b133738-7348-4eec-a0f9-f5f5781e47bd",
   "metadata": {},
   "outputs": [
    {
     "name": "stdout",
     "output_type": "stream",
     "text": [
      "Loading Abu Dhabi 2021 GP session...\n"
     ]
    },
    {
     "name": "stderr",
     "output_type": "stream",
     "text": [
      "core           INFO \tLoading data for Abu Dhabi Grand Prix - Race [v3.5.3]\n",
      "req            INFO \tUsing cached data for session_info\n",
      "req            INFO \tUsing cached data for driver_info\n",
      "req            INFO \tUsing cached data for session_status_data\n",
      "req            INFO \tUsing cached data for lap_count\n",
      "req            INFO \tUsing cached data for track_status_data\n",
      "req            INFO \tUsing cached data for _extended_timing_data\n",
      "req            INFO \tUsing cached data for timing_app_data\n",
      "core           INFO \tProcessing timing data...\n",
      "core        WARNING \tNo lap data for driver 9\n",
      "core        WARNING \tFailed to perform lap accuracy check - all laps marked as inaccurate (driver 9)\n",
      "req            INFO \tUsing cached data for car_data\n",
      "req            INFO \tUsing cached data for position_data\n",
      "req            INFO \tUsing cached data for weather_data\n",
      "req            INFO \tUsing cached data for race_control_messages\n",
      "core        WARNING \tDriver 33 completed the race distance 00:00.035000 before the recorded end of the session.\n",
      "core           INFO \tFinished loading data for 20 drivers: ['33', '44', '55', '22', '10', '77', '4', '14', '31', '16', '5', '3', '18', '47', '11', '6', '99', '63', '7', '9']\n",
      "core           INFO \tLoading data for Abu Dhabi Grand Prix - Race [v3.5.3]\n",
      "req            INFO \tUsing cached data for session_info\n",
      "req            INFO \tUsing cached data for driver_info\n"
     ]
    },
    {
     "name": "stdout",
     "output_type": "stream",
     "text": [
      "Loading Abu Dhabi 2022 GP session...\n"
     ]
    },
    {
     "name": "stderr",
     "output_type": "stream",
     "text": [
      "req            INFO \tUsing cached data for session_status_data\n",
      "req            INFO \tUsing cached data for lap_count\n",
      "req            INFO \tUsing cached data for track_status_data\n",
      "req            INFO \tUsing cached data for _extended_timing_data\n",
      "req            INFO \tUsing cached data for timing_app_data\n",
      "core           INFO \tProcessing timing data...\n",
      "req            INFO \tUsing cached data for car_data\n",
      "req            INFO \tUsing cached data for position_data\n",
      "req            INFO \tUsing cached data for weather_data\n",
      "req            INFO \tUsing cached data for race_control_messages\n",
      "core           INFO \tFinished loading data for 20 drivers: ['1', '16', '11', '55', '63', '4', '31', '18', '3', '5', '22', '24', '23', '10', '77', '47', '20', '44', '6', '14']\n"
     ]
    },
    {
     "name": "stdout",
     "output_type": "stream",
     "text": [
      "Loading Abu Dhabi 2023 GP session...\n"
     ]
    },
    {
     "name": "stderr",
     "output_type": "stream",
     "text": [
      "core           INFO \tLoading data for Abu Dhabi Grand Prix - Race [v3.5.3]\n",
      "req            INFO \tUsing cached data for session_info\n",
      "req            INFO \tUsing cached data for driver_info\n",
      "req            INFO \tUsing cached data for session_status_data\n",
      "req            INFO \tUsing cached data for lap_count\n",
      "req            INFO \tUsing cached data for track_status_data\n",
      "req            INFO \tUsing cached data for _extended_timing_data\n",
      "req            INFO \tUsing cached data for timing_app_data\n",
      "core           INFO \tProcessing timing data...\n",
      "req            INFO \tUsing cached data for car_data\n",
      "req            INFO \tUsing cached data for position_data\n",
      "req            INFO \tUsing cached data for weather_data\n",
      "req            INFO \tUsing cached data for race_control_messages\n",
      "core           INFO \tFinished loading data for 20 drivers: ['1', '16', '63', '11', '4', '81', '14', '22', '44', '18', '3', '31', '10', '23', '27', '2', '24', '55', '77', '20']\n"
     ]
    },
    {
     "name": "stdout",
     "output_type": "stream",
     "text": [
      "Loading Abu Dhabi 2024 GP session...\n"
     ]
    },
    {
     "name": "stderr",
     "output_type": "stream",
     "text": [
      "core           INFO \tLoading data for Abu Dhabi Grand Prix - Race [v3.5.3]\n",
      "req            INFO \tUsing cached data for session_info\n",
      "req            INFO \tUsing cached data for driver_info\n",
      "req            INFO \tUsing cached data for session_status_data\n",
      "req            INFO \tUsing cached data for lap_count\n",
      "req            INFO \tUsing cached data for track_status_data\n",
      "req            INFO \tUsing cached data for _extended_timing_data\n",
      "req            INFO \tUsing cached data for timing_app_data\n",
      "core           INFO \tProcessing timing data...\n",
      "req            INFO \tUsing cached data for car_data\n",
      "req            INFO \tUsing cached data for position_data\n",
      "req            INFO \tUsing cached data for weather_data\n",
      "req            INFO \tUsing cached data for race_control_messages\n",
      "core           INFO \tFinished loading data for 20 drivers: ['4', '55', '16', '44', '63', '1', '10', '27', '14', '81', '23', '22', '24', '18', '61', '20', '30', '77', '43', '11']\n"
     ]
    },
    {
     "name": "stdout",
     "output_type": "stream",
     "text": [
      "\n",
      "All sessions loaded.\n"
     ]
    }
   ],
   "source": [
    "#detch all the race data from 2021-2024\n",
    "for year in years:\n",
    "    print(f\"Loading Abu Dhabi {year} GP session...\")\n",
    "    session = fastf1.get_session(year, 'Abu Dhabi', 'R')\n",
    "    session.load()\n",
    "    laps_data[year] = session.laps\n",
    "\n",
    "\n",
    "print(\"\\nAll sessions loaded.\")"
   ]
  },
  {
   "cell_type": "markdown",
   "id": "277e9abc-d146-458a-abed-6e0f96e75d11",
   "metadata": {},
   "source": [
    "## Data Cleaning"
   ]
  },
  {
   "cell_type": "code",
   "execution_count": null,
   "id": "bc4c0de3-38ad-40f3-824c-acaad24683e7",
   "metadata": {},
   "outputs": [
    {
     "name": "stdout",
     "output_type": "stream",
     "text": [
      "Cleaning laps for 2021\n",
      "   -> Cleaned laps: 818 rows\n",
      "\n",
      "Cleaning laps for 2022\n",
      "   -> Cleaned laps: 1032 rows\n",
      "\n",
      "Cleaning laps for 2023\n",
      "   -> Cleaned laps: 1063 rows\n",
      "\n",
      "Cleaning laps for 2024\n",
      "   -> Cleaned laps: 921 rows\n",
      "\n",
      "\n",
      "All laps cleaned.\n",
      "\n"
     ]
    }
   ],
   "source": [
    "#go through all fetched data for cleaning\n",
    "for year in years:\n",
    "    print(f\"Cleaning laps for {year}\")\n",
    "    df = laps_data[year].copy()\n",
    "\n",
    "    #remove no lap time laps\n",
    "    df = df[df['LapTime'].notna()]\n",
    "\n",
    "    #keep accurate laps according to dataset\n",
    "    df = df[df['IsAccurate'] == True]\n",
    "\n",
    "    #if tires compound missing j use label as unkown\n",
    "    df.loc[:, 'Compound'] = df['Compound'].fillna('UNKNOWN')\n",
    "\n",
    "    cleaned_laps_data[year] = df\n",
    "    print(f\"   -> Cleaned laps: {df.shape[0]} rows\\n\")\n",
    "\n",
    "\n",
    "print(f\"\\nAll laps cleaned.\\n\") "
   ]
  },
  {
   "cell_type": "markdown",
   "id": "b1184049-e979-4319-ab7a-ba2892515c50",
   "metadata": {},
   "source": [
    "## Data Preprocessing"
   ]
  },
  {
   "cell_type": "code",
   "execution_count": null,
   "id": "2d8ee3d2-e91c-42ba-9abb-5fff600554c6",
   "metadata": {},
   "outputs": [
    {
     "name": "stdout",
     "output_type": "stream",
     "text": [
      "Preprocessing cleaned laps for 2021\n",
      "\n",
      "Preprocessing cleaned laps for 2022\n",
      "\n",
      "Preprocessing cleaned laps for 2023\n",
      "\n",
      "Preprocessing cleaned laps for 2024\n",
      "\n",
      "Preprocessing complete.\n",
      "\n"
     ]
    }
   ],
   "source": [
    "for year in years:\n",
    "    print(f\"Preprocessing cleaned laps for {year}\\n\")\n",
    "    df = cleaned_laps_data[year].copy()\n",
    "\n",
    "    #new column for laptime in seconds\n",
    "    df['LapTimeSeconds'] = df['LapTime'].dt.total_seconds()\n",
    "\n",
    "    #append year column\n",
    "    df['Year'] = year\n",
    "\n",
    "    preprocessed_laps.append(df)\n",
    "\n",
    "print(\"Preprocessing complete.\\n\")"
   ]
  },
  {
   "cell_type": "code",
   "execution_count": null,
   "id": "7c41f8bd-8dfa-4d62-92f9-7d596d815be7",
   "metadata": {},
   "outputs": [],
   "source": [
    "#create directory for data storage\n",
    "output_dir = r\"C:\\data\"\n",
    "\n",
    "#make a dataframe with all the preprocessed laps\n",
    "combined_df = pd.concat(preprocessed_laps, ignore_index=True)\n",
    "\n",
    "#keeping only the needed columns\n",
    "combined_df = combined_df[[\n",
    "    'Year', 'Driver', 'Stint', 'LapNumber', 'Compound',\n",
    "    'LapTimeSeconds', 'TrackStatus', 'PitInTime', 'PitOutTime'\n",
    "]]\n",
    "\n",
    "#save the data to a csv\n",
    "output_path = os.path.join(output_dir, \"lap_time.csv\")\n",
    "combined_df.to_csv(output_path, index=False)\n",
    "\n",
    "print(f\"Preprocessed data saved to: {output_path}\")"
   ]
  },
  {
   "cell_type": "code",
   "execution_count": null,
   "id": "721160f8-40a9-45d5-89b5-e850e23e4d0e",
   "metadata": {},
   "outputs": [],
   "source": []
  }
 ],
 "metadata": {
  "kernelspec": {
   "display_name": "Python 3",
   "language": "python",
   "name": "python3"
  },
  "language_info": {
   "codemirror_mode": {
    "name": "ipython",
    "version": 3
   },
   "file_extension": ".py",
   "mimetype": "text/x-python",
   "name": "python",
   "nbconvert_exporter": "python",
   "pygments_lexer": "ipython3",
   "version": "3.13.2"
  }
 },
 "nbformat": 4,
 "nbformat_minor": 5
}
