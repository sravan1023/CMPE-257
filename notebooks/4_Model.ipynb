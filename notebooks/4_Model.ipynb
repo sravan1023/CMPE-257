{
 "cells": [
  {
   "cell_type": "markdown",
   "id": "a669bf39-67ab-42c7-b18f-a3554afae1b2",
   "metadata": {},
   "source": [
    "## Setup"
   ]
  },
  {
   "cell_type": "code",
   "execution_count": 2,
   "id": "11bb8732-b736-4c8b-8b6b-cef928268f81",
   "metadata": {},
   "outputs": [],
   "source": [
    "import numpy as np\n",
    "import pandas as pd\n",
    "\n",
    "\n",
    "from sklearn.ensemble import RandomForestRegressor\n",
    "from sklearn.ensemble import GradientBoostingRegressor\n",
    "from sklearn.metrics import mean_absolute_error, mean_squared_error\n"
   ]
  },
  {
   "cell_type": "code",
   "execution_count": 3,
   "id": "f70666d0-1c06-46e6-aee6-b17ad101250e",
   "metadata": {},
   "outputs": [],
   "source": [
    "train_features = pd.read_pickle(r\"C:\\data\\train_features.pkl\")\n",
    "test_features = pd.read_pickle(r\"C:\\data\\test_features.pkl\")"
   ]
  },
  {
   "cell_type": "markdown",
   "id": "078288a8-8318-4aec-8a51-a00a921ea7cb",
   "metadata": {},
   "source": [
    "## Categorical encoding"
   ]
  },
  {
   "cell_type": "code",
   "execution_count": 5,
   "id": "b58f1b8a-c12b-4cd8-b653-cae3e3e19b83",
   "metadata": {},
   "outputs": [
    {
     "name": "stdout",
     "output_type": "stream",
     "text": [
      "Encoded training set shape: (2913, 33)\n",
      "Encoded test set shape: (921, 33)\n"
     ]
    }
   ],
   "source": [
    "# Define which columns are categorical\n",
    "categorical_cols = ['Driver', 'Compound']\n",
    "\n",
    "# One-hot encode training and test sets\n",
    "train_encoded = pd.get_dummies(train_features, columns=['Driver', 'Compound'], drop_first=True)\n",
    "test_encoded = pd.get_dummies(test_features, columns=['Driver', 'Compound'], drop_first=True)\n",
    "\n",
    "missing_cols = set(train_encoded.columns) - set(test_encoded.columns)\n",
    "for col in missing_cols:\n",
    "    test_encoded[col] = 0\n",
    "\n",
    "test_encoded = test_encoded[train_encoded.columns]\n",
    "\n",
    "print(\"Encoded training set shape:\", train_encoded.shape)\n",
    "print(\"Encoded test set shape:\", test_encoded.shape)\n"
   ]
  },
  {
   "cell_type": "markdown",
   "id": "7dcb65d7-a956-4a01-8ac1-8ff9c5b924df",
   "metadata": {},
   "source": [
    "## Random Forest Regressor"
   ]
  },
  {
   "cell_type": "code",
   "execution_count": 7,
   "id": "2baaf674-6560-4af1-b15e-6b6ee865c8c9",
   "metadata": {},
   "outputs": [],
   "source": [
    "X_train = train_encoded.drop(\"LapTimeSeconds\", axis=1)\n",
    "y_train = train_encoded[\"LapTimeSeconds\"]\n",
    "\n",
    "X_test = test_encoded.drop(\"LapTimeSeconds\", axis=1)\n",
    "y_test = test_encoded[\"LapTimeSeconds\"]"
   ]
  },
  {
   "cell_type": "code",
   "execution_count": 8,
   "id": "18cf6150-a203-49fb-8e8a-f8c7b2f54040",
   "metadata": {},
   "outputs": [],
   "source": [
    "rf_model = RandomForestRegressor(\n",
    "    n_estimators=500,\n",
    "    max_depth=8,          \n",
    "    random_state=42,\n",
    "    n_jobs=-1              \n",
    ")\n",
    "rf_model.fit(X_train, y_train)\n",
    "\n",
    "\n",
    "predictions = rf_model.predict(X_test)"
   ]
  },
  {
   "cell_type": "code",
   "execution_count": 29,
   "id": "7140d88c-4806-4117-9e29-701d53e6080f",
   "metadata": {},
   "outputs": [
    {
     "name": "stdout",
     "output_type": "stream",
     "text": [
      "Random Forest Model Performance\n",
      "MAE  : 1.012 sec\n",
      "RMSE : 1.229 sec\n"
     ]
    }
   ],
   "source": [
    "# Evaluate performance\n",
    "mae = mean_absolute_error(y_test, predictions)\n",
    "rmse = mean_squared_error(y_test, predictions, squared=False)\n",
    "\n",
    "print(\"Random Forest Model Performance\")\n",
    "print(f\"MAE  : {mae:.3f} sec\")\n",
    "print(f\"RMSE : {rmse:.3f} sec\")"
   ]
  },
  {
   "cell_type": "markdown",
   "id": "4dfd08e3-29b8-4e86-9c61-d5c15753ec29",
   "metadata": {},
   "source": [
    "## Gradient Boosting"
   ]
  },
  {
   "cell_type": "code",
   "execution_count": 11,
   "id": "cd4a6244-6997-4012-a1ce-0d0123f24d2a",
   "metadata": {},
   "outputs": [],
   "source": [
    "X_train = train_encoded.drop(\"LapTimeSeconds\", axis=1)\n",
    "y_train = train_encoded[\"LapTimeSeconds\"]\n",
    "\n",
    "X_test = test_encoded.drop(\"LapTimeSeconds\", axis=1)\n",
    "y_test = test_encoded[\"LapTimeSeconds\"]"
   ]
  },
  {
   "cell_type": "code",
   "execution_count": 12,
   "id": "12f90c6e-9ffb-4967-aea9-4f7338e0816b",
   "metadata": {},
   "outputs": [],
   "source": [
    "gbr_model = GradientBoostingRegressor(\n",
    "    n_estimators=300,      \n",
    "    max_depth=3,           \n",
    "    learning_rate=0.05,    \n",
    "    random_state=42\n",
    ")\n",
    "\n",
    "\n",
    "gbr_model.fit(X_train, y_train)\n",
    "\n",
    "\n",
    "gbr_preds = gbr_model.predict(X_test)"
   ]
  },
  {
   "cell_type": "code",
   "execution_count": 13,
   "id": "eac10712-7c53-493f-aab9-6221f068a2db",
   "metadata": {},
   "outputs": [
    {
     "name": "stdout",
     "output_type": "stream",
     "text": [
      "Gradient Boosting Regressor Performance:\n",
      "Mean Absolute Error (MAE): 1.017 sec\n",
      "Root Mean Squared Error (RMSE): 1.210 sec\n"
     ]
    }
   ],
   "source": [
    "# Evaluate performance\n",
    "mae = mean_absolute_error(y_test, gbr_preds)\n",
    "rmse = mean_squared_error(y_test, gbr_preds, squared=False)\n",
    "\n",
    "print(\"Gradient Boosting Regressor Performance:\")\n",
    "print(f\"Mean Absolute Error (MAE): {mae:.3f} sec\")\n",
    "print(f\"Root Mean Squared Error (RMSE): {rmse:.3f} sec\")"
   ]
  },
  {
   "cell_type": "markdown",
   "id": "9dd018ec-f801-4d0e-b5fe-9af853410eb0",
   "metadata": {},
   "source": [
    "## Model.pkl"
   ]
  },
  {
   "cell_type": "code",
   "execution_count": 15,
   "id": "d8d58a17-7890-4fa8-a7ab-bcb9e604cb8b",
   "metadata": {},
   "outputs": [],
   "source": [
    "import pickle\n",
    "\n",
    "with open(\"C:/models/rf_model.pkl\", 'wb') as file:\n",
    "    pickle.dump(rf_model, file)"
   ]
  },
  {
   "cell_type": "code",
   "execution_count": 16,
   "id": "8c33a9fb-01e6-4c82-8ac7-4793e32a57bc",
   "metadata": {},
   "outputs": [],
   "source": [
    "with open(\"C:/models/gbr_model.pkl\", 'wb') as file:\n",
    "    pickle.dump(gbr_model, file)"
   ]
  }
 ],
 "metadata": {
  "kernelspec": {
   "display_name": "Python 3 (ipykernel)",
   "language": "python",
   "name": "python3"
  },
  "language_info": {
   "codemirror_mode": {
    "name": "ipython",
    "version": 3
   },
   "file_extension": ".py",
   "mimetype": "text/x-python",
   "name": "python",
   "nbconvert_exporter": "python",
   "pygments_lexer": "ipython3",
   "version": "3.11.7"
  }
 },
 "nbformat": 4,
 "nbformat_minor": 5
}
